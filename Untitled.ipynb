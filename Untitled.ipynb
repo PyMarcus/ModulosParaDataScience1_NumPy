{
 "cells": [
  {
   "cell_type": "markdown",
   "id": "1b8a4998",
   "metadata": {},
   "source": [
    "# Principais módulos para análise de dados\n",
    "    "
   ]
  },
  {
   "cell_type": "markdown",
   "id": "be4160b5",
   "metadata": {},
   "source": [
    "Os principais pacotes são, pandas, scikit, matplotlib, sciPy, numpy...\n",
    "Por estar utilizando o <b>Anaconda</b> já tenho acesso a eles."
   ]
  },
  {
   "cell_type": "markdown",
   "id": "67c55989",
   "metadata": {},
   "source": [
    "https://pydata.org/  Comunidade que, além de difundir a linguagem python, difunde módulos para datascience com python"
   ]
  },
  {
   "cell_type": "markdown",
   "id": "ab855bae",
   "metadata": {},
   "source": [
    "## NumPy\n"
   ]
  },
  {
   "cell_type": "markdown",
   "id": "c07b6402",
   "metadata": {},
   "source": [
    "(numerical python)->Pacote fundamental para <b>Computação matemática </b>em python.Ele permite a construção de arrays e matrizes mais efetivas, ao invés de gastar tempo construindo esses objetos."
   ]
  },
  {
   "cell_type": "markdown",
   "id": "aaf99e8b",
   "metadata": {},
   "source": [
    "### Vantagens do NumPy:"
   ]
  },
  {
   "cell_type": "markdown",
   "id": "560ba97c",
   "metadata": {},
   "source": [
    "1)é rápido\n",
    "2)Possui ferramenta para leitura de datasets\n",
    "3)permite operacoes de álgebra linear\n",
    "4) Integra C e C++\n"
   ]
  },
  {
   "cell_type": "markdown",
   "id": "1acc68d1",
   "metadata": {},
   "source": [
    "<strong>Arrays</strong>: conjunto de valores do mesmo tipo, indexados por uma tupla de valores não negativos.Além disso, as dimensões de um Array não podem ser modificadas.\n"
   ]
  },
  {
   "cell_type": "code",
   "execution_count": 1,
   "id": "46ed17fc",
   "metadata": {},
   "outputs": [],
   "source": [
    "import numpy as np"
   ]
  },
  {
   "cell_type": "code",
   "execution_count": 2,
   "id": "5f8d66eb",
   "metadata": {},
   "outputs": [
    {
     "data": {
      "text/plain": [
       "'1.20.1'"
      ]
     },
     "execution_count": 2,
     "metadata": {},
     "output_type": "execute_result"
    }
   ],
   "source": [
    "np.__version__"
   ]
  },
  {
   "cell_type": "markdown",
   "id": "2c715505",
   "metadata": {},
   "source": [
    "## criar array:\n"
   ]
  },
  {
   "cell_type": "code",
   "execution_count": 3,
   "id": "535167a5",
   "metadata": {},
   "outputs": [
    {
     "name": "stdout",
     "output_type": "stream",
     "text": [
      "[0 1 2 3 4 5 6 7 8]\n"
     ]
    },
    {
     "data": {
      "text/plain": [
       "numpy.ndarray"
      ]
     },
     "execution_count": 3,
     "metadata": {},
     "output_type": "execute_result"
    }
   ],
   "source": [
    "#help(np.array)\n",
    "# criar array unidimencional (vetor)\n",
    "vetor1 = np.array([0, 1, 2, 3, 4, 5, 6, 7, 8])\n",
    "print(vetor1)\n",
    "type(vetor1)"
   ]
  },
  {
   "cell_type": "markdown",
   "id": "4bac0da3",
   "metadata": {},
   "source": [
    "## Métodos do array do numpy\n"
   ]
  },
  {
   "cell_type": "code",
   "execution_count": 4,
   "id": "d676cb19",
   "metadata": {},
   "outputs": [
    {
     "data": {
      "text/plain": [
       "array([ 0,  1,  3,  6, 10, 15, 21, 28, 36])"
      ]
     },
     "execution_count": 4,
     "metadata": {},
     "output_type": "execute_result"
    }
   ],
   "source": [
    "# OBS: o array nao permite dados de diferentes tipos, como é o caso das listas\n",
    "\n",
    "vetor1.cumsum() # soma"
   ]
  },
  {
   "cell_type": "code",
   "execution_count": 5,
   "id": "85d378c3",
   "metadata": {},
   "outputs": [
    {
     "data": {
      "text/plain": [
       "1"
      ]
     },
     "execution_count": 5,
     "metadata": {},
     "output_type": "execute_result"
    }
   ],
   "source": [
    "vetor1[1] # imprime o elemento"
   ]
  },
  {
   "cell_type": "code",
   "execution_count": 6,
   "id": "6363258d",
   "metadata": {},
   "outputs": [
    {
     "data": {
      "text/plain": [
       "array([100,   1,   2,   3,   4,   5,   6,   7,   8])"
      ]
     },
     "execution_count": 6,
     "metadata": {},
     "output_type": "execute_result"
    }
   ],
   "source": [
    "vetor1[0] = 100\n",
    "vetor1"
   ]
  },
  {
   "cell_type": "code",
   "execution_count": 7,
   "id": "81223688",
   "metadata": {},
   "outputs": [
    {
     "data": {
      "text/plain": [
       "(9,)"
      ]
     },
     "execution_count": 7,
     "metadata": {},
     "output_type": "execute_result"
    }
   ],
   "source": [
    "# inspencionando o formato:\n",
    "vetor1.shape # no caso, 1 dimensao"
   ]
  },
  {
   "cell_type": "code",
   "execution_count": 8,
   "id": "8dc34a93",
   "metadata": {},
   "outputs": [
    {
     "data": {
      "text/plain": [
       "array([0. , 0.5, 1. , 1.5, 2. , 2.5, 3. , 3.5, 4. ])"
      ]
     },
     "execution_count": 8,
     "metadata": {},
     "output_type": "execute_result"
    }
   ],
   "source": [
    "# criar um array estilo range\n",
    "vetor2 = np.arange(0, 4.5, .5) # vai de 0 a 4, de .5 em .5 #ou seja, uma PA\n",
    "vetor2"
   ]
  },
  {
   "cell_type": "code",
   "execution_count": 9,
   "id": "c1b2b4cd",
   "metadata": {},
   "outputs": [
    {
     "data": {
      "text/plain": [
       "dtype('float64')"
      ]
     },
     "execution_count": 9,
     "metadata": {},
     "output_type": "execute_result"
    }
   ],
   "source": [
    "# vendo o tipo\n",
    "vetor2.dtype"
   ]
  },
  {
   "cell_type": "code",
   "execution_count": 10,
   "id": "e3796406",
   "metadata": {},
   "outputs": [],
   "source": [
    "# criar array com zeros:\n",
    "arrayDeZeros = np.zeros(10) # o número representa a quantidade"
   ]
  },
  {
   "cell_type": "code",
   "execution_count": 11,
   "id": "4fbae242",
   "metadata": {},
   "outputs": [
    {
     "data": {
      "text/plain": [
       "array([0., 0., 0., 0., 0., 0., 0., 0., 0., 0.])"
      ]
     },
     "execution_count": 11,
     "metadata": {},
     "output_type": "execute_result"
    }
   ],
   "source": [
    "arrayDeZeros"
   ]
  },
  {
   "cell_type": "code",
   "execution_count": 12,
   "id": "16039ad2",
   "metadata": {},
   "outputs": [
    {
     "data": {
      "text/plain": [
       "array([[1., 0., 0.],\n",
       "       [0., 1., 0.],\n",
       "       [0., 0., 1.]])"
      ]
     },
     "execution_count": 12,
     "metadata": {},
     "output_type": "execute_result"
    }
   ],
   "source": [
    "# matriz com 1 na diagonal:\n",
    "z = np.eye(3) \n",
    "z"
   ]
  },
  {
   "cell_type": "code",
   "execution_count": 13,
   "id": "795977be",
   "metadata": {},
   "outputs": [
    {
     "data": {
      "text/plain": [
       "array([[1, 0],\n",
       "       [0, 6]])"
      ]
     },
     "execution_count": 13,
     "metadata": {},
     "output_type": "execute_result"
    }
   ],
   "source": [
    "# funcao diag, cria a diagonal:\n",
    "d = np.diag([1, 6])\n",
    "d"
   ]
  },
  {
   "cell_type": "code",
   "execution_count": 14,
   "id": "c55a5a00",
   "metadata": {},
   "outputs": [],
   "source": [
    "# array de número complexo\n",
    "c = np.array([1 + 2j, 2 + 1j])"
   ]
  },
  {
   "cell_type": "code",
   "execution_count": 15,
   "id": "680ebf67",
   "metadata": {},
   "outputs": [
    {
     "data": {
      "text/plain": [
       "array([1.+2.j, 2.+1.j])"
      ]
     },
     "execution_count": 15,
     "metadata": {},
     "output_type": "execute_result"
    }
   ],
   "source": [
    "c"
   ]
  },
  {
   "cell_type": "code",
   "execution_count": 16,
   "id": "7bcc5b1c",
   "metadata": {},
   "outputs": [
    {
     "data": {
      "text/plain": [
       "array([ 0. ,  2.5,  5. ,  7.5, 10. ])"
      ]
     },
     "execution_count": 16,
     "metadata": {},
     "output_type": "execute_result"
    }
   ],
   "source": [
    "# criar intervalo:\n",
    "intervalo = np.linspace(0, 10 , 5) # de 0 a 10 de e qnt de exemplos gerados\n",
    "intervalo"
   ]
  },
  {
   "cell_type": "markdown",
   "id": "62154b2d",
   "metadata": {},
   "source": [
    "## Criar matrizes\n"
   ]
  },
  {
   "cell_type": "code",
   "execution_count": 17,
   "id": "db340649",
   "metadata": {},
   "outputs": [
    {
     "data": {
      "text/plain": [
       "array([[1, 2, 3],\n",
       "       [1, 2, 3]])"
      ]
     },
     "execution_count": 17,
     "metadata": {},
     "output_type": "execute_result"
    }
   ],
   "source": [
    "# criar:\n",
    "# obs: matriz é um vetor bidimensional, um tensor é tridimencional\n",
    "matriz = np.array([[1, 2, 3], [1, 2, 3]]) # 2x3\n",
    "matriz\n",
    "\n"
   ]
  },
  {
   "cell_type": "code",
   "execution_count": 21,
   "id": "123a3269",
   "metadata": {},
   "outputs": [
    {
     "data": {
      "text/plain": [
       "array([[1., 1., 1.],\n",
       "       [1., 1., 1.]])"
      ]
     },
     "execution_count": 21,
     "metadata": {},
     "output_type": "execute_result"
    }
   ],
   "source": [
    "matriz.shape #  exibe linhas e colunas\n",
    "# cria matriz 2x3 só de nṕumeros 1:\n",
    "matriz1 = np.ones((2, 3))\n",
    "matriz1"
   ]
  },
  {
   "cell_type": "code",
   "execution_count": 26,
   "id": "114d9fc8",
   "metadata": {},
   "outputs": [
    {
     "data": {
      "text/plain": [
       "matrix([[ 1,  2,  3],\n",
       "        [ 1,  2,  2],\n",
       "        [12, 43, 53]])"
      ]
     },
     "execution_count": 26,
     "metadata": {},
     "output_type": "execute_result"
    }
   ],
   "source": [
    "# criar matriz a partir de uma lista de listas:\n",
    "lista = [[1, 2, 3], [1, 2, 2], [12, 43, 53]]\n",
    "matriz2 = np.matrix(lista)\n",
    "matriz2"
   ]
  },
  {
   "cell_type": "code",
   "execution_count": 27,
   "id": "db3d716d",
   "metadata": {},
   "outputs": [
    {
     "data": {
      "text/plain": [
       "(3, 3)"
      ]
     },
     "execution_count": 27,
     "metadata": {},
     "output_type": "execute_result"
    }
   ],
   "source": [
    "np.shape(matriz2)"
   ]
  },
  {
   "cell_type": "code",
   "execution_count": 28,
   "id": "3a82b704",
   "metadata": {},
   "outputs": [
    {
     "data": {
      "text/plain": [
       "9"
      ]
     },
     "execution_count": 28,
     "metadata": {},
     "output_type": "execute_result"
    }
   ],
   "source": [
    "# verificar o tamanho:\n",
    "matriz2.size"
   ]
  },
  {
   "cell_type": "code",
   "execution_count": 29,
   "id": "2a690251",
   "metadata": {},
   "outputs": [
    {
     "data": {
      "text/plain": [
       "8"
      ]
     },
     "execution_count": 29,
     "metadata": {},
     "output_type": "execute_result"
    }
   ],
   "source": [
    "matriz2.itemsize # verifica o tamanho de cada item na memória do pc"
   ]
  },
  {
   "cell_type": "code",
   "execution_count": 30,
   "id": "cc6c07d7",
   "metadata": {},
   "outputs": [
    {
     "data": {
      "text/plain": [
       "72"
      ]
     },
     "execution_count": 30,
     "metadata": {},
     "output_type": "execute_result"
    }
   ],
   "source": [
    "# ver o tamanho de bytes ocupado:\n",
    "matriz2.nbytes"
   ]
  },
  {
   "cell_type": "code",
   "execution_count": 31,
   "id": "14dca4ad",
   "metadata": {},
   "outputs": [
    {
     "data": {
      "text/plain": [
       "43"
      ]
     },
     "execution_count": 31,
     "metadata": {},
     "output_type": "execute_result"
    }
   ],
   "source": [
    "# exibindo como slice:\n",
    "matriz2[2, 1]"
   ]
  },
  {
   "cell_type": "code",
   "execution_count": 32,
   "id": "4f02cb35",
   "metadata": {},
   "outputs": [],
   "source": [
    "# alterando:\n",
    "matriz2[1, 0] = 100\n"
   ]
  },
  {
   "cell_type": "code",
   "execution_count": 33,
   "id": "86c86c95",
   "metadata": {},
   "outputs": [
    {
     "data": {
      "text/plain": [
       "matrix([[  1,   2,   3],\n",
       "        [100,   2,   2],\n",
       "        [ 12,  43,  53]])"
      ]
     },
     "execution_count": 33,
     "metadata": {},
     "output_type": "execute_result"
    }
   ],
   "source": [
    "matriz2"
   ]
  },
  {
   "cell_type": "code",
   "execution_count": 34,
   "id": "d7af3bf1",
   "metadata": {},
   "outputs": [
    {
     "data": {
      "text/plain": [
       "array([[24., 76.],\n",
       "       [35., 89.]])"
      ]
     },
     "execution_count": 34,
     "metadata": {},
     "output_type": "execute_result"
    }
   ],
   "source": [
    "# forçar a tipagem do array:\n",
    "matriz = np.array([[24, 76], [35, 89]], dtype=float)\n",
    "matriz"
   ]
  },
  {
   "cell_type": "code",
   "execution_count": 35,
   "id": "9aa6ed35",
   "metadata": {},
   "outputs": [
    {
     "data": {
      "text/plain": [
       "2"
      ]
     },
     "execution_count": 35,
     "metadata": {},
     "output_type": "execute_result"
    }
   ],
   "source": [
    "# ver quantas dimensoes\n",
    "matriz.ndim"
   ]
  },
  {
   "cell_type": "code",
   "execution_count": 38,
   "id": "1b57566d",
   "metadata": {},
   "outputs": [
    {
     "data": {
      "text/plain": [
       "array([[ 1,  2,  3],\n",
       "       [ 2,  3,  4],\n",
       "       [ 1,  2,  2],\n",
       "       [ 1, 22,  5]])"
      ]
     },
     "execution_count": 38,
     "metadata": {},
     "output_type": "execute_result"
    }
   ],
   "source": [
    "matriz4 = np.array([[1, 2, 3], [2, 3, 4], [1, 2, 2], [1, 22, 5]])\n",
    "matriz4"
   ]
  },
  {
   "cell_type": "code",
   "execution_count": 39,
   "id": "8dbc31c5",
   "metadata": {},
   "outputs": [
    {
     "data": {
      "text/plain": [
       "2"
      ]
     },
     "execution_count": 39,
     "metadata": {},
     "output_type": "execute_result"
    }
   ],
   "source": [
    "matriz4.ndim"
   ]
  },
  {
   "cell_type": "markdown",
   "id": "97d3eb5c",
   "metadata": {},
   "source": [
    "## Métodos e operações com dataset"
   ]
  },
  {
   "cell_type": "code",
   "execution_count": 40,
   "id": "3cf7e09d",
   "metadata": {},
   "outputs": [
    {
     "data": {
      "text/plain": [
       "array([0.91861237, 0.6245813 , 0.5472343 , 0.25315867, 0.5289491 ,\n",
       "       0.5008366 , 0.01896674, 0.99663397, 0.52340373, 0.49642572])"
      ]
     },
     "execution_count": 40,
     "metadata": {},
     "output_type": "execute_result"
    }
   ],
   "source": [
    "#datasets são conjuntos de dados.\n",
    "# gerando dados aleatórios com numpy\n",
    "np.random.rand(10)"
   ]
  },
  {
   "cell_type": "code",
   "execution_count": 42,
   "id": "c69f7863",
   "metadata": {},
   "outputs": [],
   "source": [
    "import matplotlib.pyplot as plt\n",
    "%matplotlib inline\n"
   ]
  },
  {
   "cell_type": "code",
   "execution_count": 56,
   "id": "d1dceae5",
   "metadata": {},
   "outputs": [
    {
     "data": {
      "image/png": "[encoded data removed]",
      "text/plain": [
       "<Figure size 432x288 with 1 Axes>"
      ]
     },
     "metadata": {
      "needs_background": "light"
     },
     "output_type": "display_data"
    }
   ],
   "source": [
    "plt.show((plt.hist(np.random.rand(1000)))) # gera um histograma com números aleatórios\n",
    "# obs, em estatística, quanto mais tu aumenta a distribuição, mais se aproxima da normalidade"
   ]
  },
  {
   "cell_type": "code",
   "execution_count": 46,
   "id": "e71cba5d",
   "metadata": {},
   "outputs": [
    {
     "data": {
      "text/plain": [
       "<matplotlib.colorbar.Colorbar at 0x7fc24d1f7b80>"
      ]
     },
     "execution_count": 46,
     "metadata": {},
     "output_type": "execute_result"
    },
    {
     "data": {
      "image/png": "[encoded data removed]",
      "text/plain": [
       "<Figure size 432x288 with 2 Axes>"
      ]
     },
     "metadata": {
      "needs_background": "light"
     },
     "output_type": "display_data"
    }
   ],
   "source": [
    "#gerando gráfico de calor\n",
    "imagem = np.random.rand(30, 30)\n",
    "plt.imshow(imagem, cmap = plt.cm.hot)\n",
    "plt.colorbar()"
   ]
  },
  {
   "cell_type": "markdown",
   "id": "a4e6f1ff",
   "metadata": {},
   "source": [
    "### OBS: em machine learning, espera-se receber os dados de forma normalizada, do contrário, deve-se normalizá-los"
   ]
  },
  {
   "cell_type": "code",
   "execution_count": null,
   "id": "a9294256",
   "metadata": {},
   "outputs": [],
   "source": [
    "# embora numpy faça operações com datasets, o ideal é usar o pandas."
   ]
  },
  {
   "cell_type": "code",
   "execution_count": 59,
   "id": "3c05be32",
   "metadata": {},
   "outputs": [
    {
     "name": "stdout",
     "output_type": "stream",
     "text": [
      "sepal_length,sepal_width,petal_length,petal_width,species\r\n",
      "5.1,3.5,1.4,0.2,setosa\r\n",
      "4.9,3,1.4,0.2,setosa\r\n",
      "4.7,3.2,1.3,0.2,setosa\r\n",
      "4.6,3.1,1.5,0.2,setosa\r\n",
      "5,3.6,1.4,0.2,setosa\r\n",
      "5.4,3.9,1.7,0.4,setosa\r\n",
      "4.6,3.4,1.4,0.3,setosa\r\n",
      "5,3.4,1.5,0.2,setosa\r\n",
      "4.4,2.9,1.4,0.2,setosa\r\n"
     ]
    }
   ],
   "source": [
    "import os \n",
    "filename = os.path.join('iris.csv') # iris é um dataset, ou seja, um conjunto de dados\n",
    "!head iris.csv"
   ]
  },
  {
   "cell_type": "markdown",
   "id": "aace2b13",
   "metadata": {},
   "source": [
    "# carregando um dataset para o array\n",
    "arquivo = np.loadtxt(filename, delimiter=',', usecols=(0, 1, 2, 3), skiprows=1)\n",
    "arquivo"
   ]
  },
  {
   "cell_type": "code",
   "execution_count": 61,
   "id": "388740a9",
   "metadata": {},
   "outputs": [
    {
     "data": {
      "image/png": "[encoded data removed]",
      "text/plain": [
       "<Figure size 432x288 with 1 Axes>"
      ]
     },
     "metadata": {
      "needs_background": "light"
     },
     "output_type": "display_data"
    }
   ],
   "source": [
    "#gerando plto de um array\n",
    "var, var2 = np.loadtxt(filename, delimiter=',', usecols=(0, 1), skiprows=1, unpack=True)\n",
    "plt.show(plt.plot(var, var2, 'o', markersize=8, alpha=0.75))"
   ]
  },
  {
   "cell_type": "markdown",
   "id": "a4a7aef9",
   "metadata": {},
   "source": [
    "## estatística e numpy\n"
   ]
  },
  {
   "cell_type": "code",
   "execution_count": 62,
   "id": "662439b6",
   "metadata": {},
   "outputs": [
    {
     "data": {
      "text/plain": [
       "54.0"
      ]
     },
     "execution_count": 62,
     "metadata": {},
     "output_type": "execute_result"
    }
   ],
   "source": [
    "# criando o array\n",
    "a = np.array([15, 23, 63, 94, 75])\n",
    "# em estatistica, a média é o valor que aponta para onde mais se concentram os dados de uma distribuição\n",
    "np.mean(a) # calcula média aritimética."
   ]
  },
  {
   "cell_type": "code",
   "execution_count": 63,
   "id": "510ece2f",
   "metadata": {},
   "outputs": [
    {
     "data": {
      "text/plain": [
       "30.34468652004828"
      ]
     },
     "execution_count": 63,
     "metadata": {},
     "output_type": "execute_result"
    }
   ],
   "source": [
    "# calculando o desvio padrão, ou seja, o quanto de disperção existe com relação à média\n",
    "# um baixo desvio, indica que os valores são mais uniformes, próximos à média\n",
    "np.std(a)"
   ]
  },
  {
   "cell_type": "code",
   "execution_count": 64,
   "id": "c0442052",
   "metadata": {},
   "outputs": [
    {
     "data": {
      "text/plain": [
       "920.8"
      ]
     },
     "execution_count": 64,
     "metadata": {},
     "output_type": "execute_result"
    }
   ],
   "source": [
    "# calculando a variância, sendo esta a medida de dispersão, ou seja, indica o quao longe est[a o valor do esperado]\n",
    "np.var(a)"
   ]
  },
  {
   "cell_type": "code",
   "execution_count": 65,
   "id": "eae6e640",
   "metadata": {},
   "outputs": [
    {
     "data": {
      "text/plain": [
       "270"
      ]
     },
     "execution_count": 65,
     "metadata": {},
     "output_type": "execute_result"
    }
   ],
   "source": [
    "# somar o vetor\n",
    "np.sum(a)"
   ]
  },
  {
   "cell_type": "code",
   "execution_count": 66,
   "id": "c658f87c",
   "metadata": {},
   "outputs": [
    {
     "data": {
      "text/plain": [
       "153231750"
      ]
     },
     "execution_count": 66,
     "metadata": {},
     "output_type": "execute_result"
    }
   ],
   "source": [
    "# retorna o produto dos elementos\n",
    "np.prod(a)"
   ]
  },
  {
   "cell_type": "code",
   "execution_count": 67,
   "id": "ad65aa53",
   "metadata": {},
   "outputs": [
    {
     "data": {
      "text/plain": [
       "array([ 15,  38, 101, 195, 270])"
      ]
     },
     "execution_count": 67,
     "metadata": {},
     "output_type": "execute_result"
    }
   ],
   "source": [
    "# soma acumulada ods elementos\n",
    "np.cumsum(a)\n"
   ]
  },
  {
   "cell_type": "code",
   "execution_count": 71,
   "id": "3eaada5b",
   "metadata": {},
   "outputs": [
    {
     "name": "stdout",
     "output_type": "stream",
     "text": [
      "[0.48250529 0.52191399] (2,)\n"
     ]
    }
   ],
   "source": [
    "a = np.random.rand(400, 2)\n",
    "m = a.mean(0)\n",
    "print(m, m.shape)"
   ]
  },
  {
   "cell_type": "code",
   "execution_count": 72,
   "id": "146cdb49",
   "metadata": {},
   "outputs": [
    {
     "data": {
      "text/plain": [
       "<function matplotlib.pyplot.show(close=None, block=None)>"
      ]
     },
     "execution_count": 72,
     "metadata": {},
     "output_type": "execute_result"
    },
    {
     "data": {
      "image/png": "[encoded data removed]",
      "text/plain": [
       "<Figure size 432x288 with 1 Axes>"
      ]
     },
     "metadata": {
      "needs_background": "light"
     },
     "output_type": "display_data"
    }
   ],
   "source": [
    "# plotar gráfico\n",
    "plt.plot(a[:,0],a[:,1],'o',markersize=5,alpha=0.50)\n",
    "plt.plot(m[0], m[1], 'ro', markersize=10)\n",
    "plt.show"
   ]
  },
  {
   "cell_type": "markdown",
   "id": "a77a671d",
   "metadata": {},
   "source": [
    "###  slicing de arrays:"
   ]
  },
  {
   "cell_type": "code",
   "execution_count": 73,
   "id": "8f00db3a",
   "metadata": {},
   "outputs": [
    {
     "data": {
      "text/plain": [
       "array([[0, 0, 0],\n",
       "       [0, 1, 0],\n",
       "       [0, 0, 2]])"
      ]
     },
     "execution_count": 73,
     "metadata": {},
     "output_type": "execute_result"
    }
   ],
   "source": [
    "a = np.diag(np.arange(3)) # cria um array, com a diagonal de 0 a 2\n",
    "a"
   ]
  },
  {
   "cell_type": "code",
   "execution_count": 74,
   "id": "6d53e186",
   "metadata": {},
   "outputs": [
    {
     "data": {
      "text/plain": [
       "1"
      ]
     },
     "execution_count": 74,
     "metadata": {},
     "output_type": "execute_result"
    }
   ],
   "source": [
    "a[1, 1]"
   ]
  },
  {
   "cell_type": "code",
   "execution_count": 75,
   "id": "408b5db9",
   "metadata": {},
   "outputs": [
    {
     "data": {
      "text/plain": [
       "array([0, 1, 0])"
      ]
     },
     "execution_count": 75,
     "metadata": {},
     "output_type": "execute_result"
    }
   ],
   "source": [
    "a[1]"
   ]
  },
  {
   "cell_type": "code",
   "execution_count": 76,
   "id": "6d7ce263",
   "metadata": {},
   "outputs": [
    {
     "data": {
      "text/plain": [
       "array([0, 1, 2, 3, 4, 5, 6, 7, 8, 9])"
      ]
     },
     "execution_count": 76,
     "metadata": {},
     "output_type": "execute_result"
    }
   ],
   "source": [
    "b=np.arange(10)\n",
    "b"
   ]
  },
  {
   "cell_type": "code",
   "execution_count": 77,
   "id": "669ecf6e",
   "metadata": {},
   "outputs": [
    {
     "data": {
      "text/plain": [
       "array([2, 5, 8])"
      ]
     },
     "execution_count": 77,
     "metadata": {},
     "output_type": "execute_result"
    }
   ],
   "source": [
    "b[2:9:3] # 2 a 9 de 3 em 3"
   ]
  },
  {
   "cell_type": "code",
   "execution_count": 78,
   "id": "c2b91c95",
   "metadata": {},
   "outputs": [
    {
     "name": "stderr",
     "output_type": "stream",
     "text": [
      "<ipython-input-78-52606da3ed98>:2: DeprecationWarning: elementwise comparison failed; this will raise an error in the future.\n",
      "  a == b\n"
     ]
    },
    {
     "data": {
      "text/plain": [
       "False"
      ]
     },
     "execution_count": 78,
     "metadata": {},
     "output_type": "execute_result"
    }
   ],
   "source": [
    "# comparação\n",
    "a == b"
   ]
  },
  {
   "cell_type": "code",
   "execution_count": 79,
   "id": "ca5f411d",
   "metadata": {},
   "outputs": [
    {
     "data": {
      "text/plain": [
       "False"
      ]
     },
     "execution_count": 79,
     "metadata": {},
     "output_type": "execute_result"
    }
   ],
   "source": [
    "# outra forma de comparar\n",
    "np.array_equal(a, b)"
   ]
  },
  {
   "cell_type": "code",
   "execution_count": 80,
   "id": "00065cd8",
   "metadata": {},
   "outputs": [
    {
     "data": {
      "text/plain": [
       "0"
      ]
     },
     "execution_count": 80,
     "metadata": {},
     "output_type": "execute_result"
    }
   ],
   "source": [
    "# minimo:\n",
    "a.min()\n"
   ]
  },
  {
   "cell_type": "code",
   "execution_count": 81,
   "id": "5e82fea9",
   "metadata": {},
   "outputs": [
    {
     "data": {
      "text/plain": [
       "2"
      ]
     },
     "execution_count": 81,
     "metadata": {},
     "output_type": "execute_result"
    }
   ],
   "source": [
    "# máximo\n",
    "a.max()"
   ]
  },
  {
   "cell_type": "code",
   "execution_count": 82,
   "id": "317ad3d5",
   "metadata": {},
   "outputs": [
    {
     "data": {
      "text/plain": [
       "array([2.5, 3.5, 4.5])"
      ]
     },
     "execution_count": 82,
     "metadata": {},
     "output_type": "execute_result"
    }
   ],
   "source": [
    "# somar ao array\n",
    "np.array([1, 2, 3]) + 1.5"
   ]
  },
  {
   "cell_type": "code",
   "execution_count": 84,
   "id": "8506e689",
   "metadata": {},
   "outputs": [
    {
     "data": {
      "text/plain": [
       "array([1., 2., 2., 2.])"
      ]
     },
     "execution_count": 84,
     "metadata": {},
     "output_type": "execute_result"
    }
   ],
   "source": [
    "# método around\n",
    "g = np.array([1.2, 1.5, 1.6, 2.5])\n",
    "k = np.around(g)\n",
    "k"
   ]
  },
  {
   "cell_type": "code",
   "execution_count": 85,
   "id": "2ee18f4d",
   "metadata": {},
   "outputs": [
    {
     "data": {
      "text/plain": [
       "array([1, 2, 3, 4])"
      ]
     },
     "execution_count": 85,
     "metadata": {},
     "output_type": "execute_result"
    }
   ],
   "source": [
    "# cria array\n",
    "B = np.array(list(range(1, 5)))\n",
    "B"
   ]
  },
  {
   "cell_type": "code",
   "execution_count": 87,
   "id": "946fe72c",
   "metadata": {},
   "outputs": [
    {
     "data": {
      "text/plain": [
       "array([1, 2, 3, 4])"
      ]
     },
     "execution_count": 87,
     "metadata": {},
     "output_type": "execute_result"
    }
   ],
   "source": [
    "# copia array\n",
    "C = B.flatten() # muito usado\n",
    "C"
   ]
  },
  {
   "cell_type": "code",
   "execution_count": 89,
   "id": "928344e0",
   "metadata": {},
   "outputs": [
    {
     "data": {
      "text/plain": [
       "(array([1, 2, 3]), (3,), (3,))"
      ]
     },
     "execution_count": 89,
     "metadata": {},
     "output_type": "execute_result"
    }
   ],
   "source": [
    "# adicionar dimensões ao array\n",
    "h = np.array([1, 2, 3])\n",
    "h[:np.newaxis], h[:np.newaxis].shape, h[:np.newaxis].shape"
   ]
  },
  {
   "cell_type": "code",
   "execution_count": 92,
   "id": "9c10ff10",
   "metadata": {},
   "outputs": [
    {
     "data": {
      "text/plain": [
       "array([1, 1, 1, 2, 2, 2, 3, 3, 3])"
      ]
     },
     "execution_count": 92,
     "metadata": {},
     "output_type": "execute_result"
    }
   ],
   "source": [
    "# repetir elementos de um array\n",
    "np.repeat(h, 3)"
   ]
  },
  {
   "cell_type": "code",
   "execution_count": 94,
   "id": "4c0b4729",
   "metadata": {},
   "outputs": [
    {
     "data": {
      "text/plain": [
       "array([1, 2, 3, 1, 2, 3, 1, 2, 3])"
      ]
     },
     "execution_count": 94,
     "metadata": {},
     "output_type": "execute_result"
    }
   ],
   "source": [
    "# repetir o array de forma intercalada:\n",
    "np.tile(h, 3)"
   ]
  },
  {
   "cell_type": "code",
   "execution_count": 95,
   "id": "602e65c3",
   "metadata": {},
   "outputs": [
    {
     "data": {
      "text/plain": [
       "array([1, 2, 3, 1, 2, 3, 4])"
      ]
     },
     "execution_count": 95,
     "metadata": {},
     "output_type": "execute_result"
    }
   ],
   "source": [
    "# concatenar\n",
    "np.concatenate((h, B), axis=0)"
   ]
  },
  {
   "cell_type": "code",
   "execution_count": 96,
   "id": "f6833775",
   "metadata": {},
   "outputs": [
    {
     "data": {
      "text/plain": [
       "array([1, 2, 3, 4])"
      ]
     },
     "execution_count": 96,
     "metadata": {},
     "output_type": "execute_result"
    }
   ],
   "source": [
    "# copiar\n",
    "r = np.copy(B)\n",
    "r"
   ]
  },
  {
   "cell_type": "code",
   "execution_count": null,
   "id": "6688fde6",
   "metadata": {},
   "outputs": [],
   "source": []
  }
 ],
 "metadata": {
  "kernelspec": {
   "display_name": "Python 3",
   "language": "python",
   "name": "python3"
  },
  "language_info": {
   "codemirror_mode": {
    "name": "ipython",
    "version": 3
   },
   "file_extension": ".py",
   "mimetype": "text/x-python",
   "name": "python",
   "nbconvert_exporter": "python",
   "pygments_lexer": "ipython3",
   "version": "3.8.8"
  }
 },
 "nbformat": 4,
 "nbformat_minor": 5
}
